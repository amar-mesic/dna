{
 "cells": [
  {
   "cell_type": "code",
   "execution_count": 6,
   "metadata": {},
   "outputs": [
    {
     "name": "stdout",
     "output_type": "stream",
     "text": [
      "abifpy failed: 'PBAS2'\n"
     ]
    }
   ],
   "source": [
    "import abifpy\n",
    "\n",
    "file_name = \"Single_Source/Applied_Biosystems_GlobalFiler/GF_NTD01.hid\"\n",
    "try:\n",
    "    trace = abifpy.Trace(file_name)\n",
    "    print(\"Channels:\", trace.data_channels)  # List detected channels\n",
    "    trace.plot()  # Attempt to auto-plot\n",
    "except Exception as e:\n",
    "    print(\"abifpy failed:\", str(e))"
   ]
  },
  {
   "cell_type": "code",
   "execution_count": 7,
   "metadata": {},
   "outputs": [
    {
     "name": "stdout",
     "output_type": "stream",
     "text": [
      "b'ABIF\\x01,tdir\\x00\\x00\\x00\\x01\\x03\\xff\\x00\\x1c\\x00\\x00\\x00\\xae\\x00\\x00\\x13@\\x00\\x0cEc\\x00\\x00\\x00\\x00\\x00\\x00\\x00\\x00\\x00\\x00\\x00\\x00\\x00\\x00\\x00\\x00\\x00\\x00\\x00\\x00\\x00\\x00\\x00\\x00\\x00\\x00\\x00\\x00\\x00\\x00\\x00\\x00\\x00\\x00\\x00\\x00\\x00\\x00\\x00\\x00\\x00\\x00\\x00\\x00\\x00\\x00\\x00\\x00\\x00\\x00\\x00\\x00\\x00\\x00\\x00\\x00\\x00\\x00\\x00\\x00\\x00\\x00\\x00\\x00\\x00\\x00\\x00\\x00\\x00\\x00'\n"
     ]
    }
   ],
   "source": [
    "with open(file_name, \"rb\") as f:\n",
    "    print(f.read(100))  # Check file signature"
   ]
  },
  {
   "cell_type": "code",
   "execution_count": 11,
   "metadata": {},
   "outputs": [
    {
     "name": "stdout",
     "output_type": "stream",
     "text": [
      "DATA tags in hex: 25\n"
     ]
    }
   ],
   "source": [
    "with open(file_name, \"rb\") as f:\n",
    "    hex_data = f.read(2000)  # Read first 2KB\n",
    "\n",
    "# Search for fluorescence data tags (e.g., 'DATA9' = b'DATA9\\x00')\n",
    "print(\"DATA tags in hex:\", hex_data.find(b'@'))"
   ]
  },
  {
   "cell_type": "code",
   "execution_count": 16,
   "metadata": {},
   "outputs": [
    {
     "name": "stdout",
     "output_type": "stream",
     "text": [
      "00000000  41 42 49 46 01 2c 74 64  69 72 00 00 00 01 03 ff  |ABIF.,tdir......|\n",
      "00000010  00 1c 00 00 00 ae 00 00  13 40 00 0c 45 63 00 00  |.........@..Ec..|\n",
      "00000020  00 00 00 00 00 00 00 00  00 00 00 00 00 00 00 00  |................|\n",
      "*\n",
      "00000080  32 30 31 37 2d 31 32 2d  30 32 20 32 33 3a 35 39  |2017-12-02 23:59|\n",
      "00000090  3a 30 30 2e 30 00 32 30  31 37 2d 30 35 2d 32 33  |:00.0.2017-05-23|\n",
      "000000a0  20 30 39 3a 32 37 3a 30  30 2e 30 00 31 37 30 32  | 09:27:00.0.1702|\n",
      "000000b0  33 37 33 00 4a 36 5f 4c  49 5a 28 36 30 2d 34 36  |373.J6_LIZ(60-46|\n",
      "000000c0  30 29 00 53 69 7a 65 43  61 6c 6c 65 72 20 76 31  |0).SizeCaller v1|\n",
      "000000d0  2e 31 2e 30 00 3c 3f 78  6d 6c 20 76 65 72 73 69  |.1.0.<?xml versi|\n",
      "000000e0  6f 6e 3d 22 31 2e 30 22  20 65 6e 63 6f 64 69 6e  |on=\"1.0\" encodin|\n",
      "000000f0  67 3d 22 55 54 46 2d 38  22 3f 3e 20 3c 71 63 2d  |g=\"UTF-8\"?> <qc-|\n",
      "00000100  70 72 6f 74 6f 63 6f 6c  20 6e 61 6d 65 3d 22 4a  |protocol name=\"J|\n",
      "00000110  36 5f 4c 49 5a 28 36 30  2d 34 36 30 29 22 20 76  |6_LIZ(60-460)\" v|\n",
      "00000120  65 72 73 69 6f 6e 3d 22  53 69 7a 65 43 61 6c 6c  |ersion=\"SizeCall|\n",
      "00000130  65 72 20 76 31 2e 31 2e  30 22 20 75 73 65 72 4e  |er v1.1.0\" userN|\n",
      "00000140  61 6d 65 3d 22 22 20 63  6f 6d 6d 65 6e 74 73 3d  |ame=\"\" comments=|\n",
      "00000150  22 22 20 63 72 65 61 74  65 64 3d 22 31 34 35 30  |\"\" created=\"1450|\n",
      "00000160  33 37 37 38 38 36 33 39  30 22 20 63 72 65 61 74  |377886390\" creat|\n",
      "00000170  65 55 73 65 72 4e 61 6d  65 3d 22 22 20 6d 6f 64  |eUserName=\"\" mod|\n",
      "hexdump: stdout: Broken pipe\n",
      "zsh:1: command not found: fsa_to_tab\n"
     ]
    }
   ],
   "source": [
    "! hexdump -C $file_name | head -n 20\n",
    "! fsa_to_tab $file_name > output.txt"
   ]
  },
  {
   "cell_type": "code",
   "execution_count": 19,
   "metadata": {},
   "outputs": [
    {
     "name": "stdout",
     "output_type": "stream",
     "text": [
      "      73\n"
     ]
    }
   ],
   "source": [
    "! xxd -ps $file_name | grep -n \"44415441\" | wc -l # \"DATA\" in hex"
   ]
  },
  {
   "cell_type": "code",
   "execution_count": null,
   "metadata": {},
   "outputs": [],
   "source": []
  }
 ],
 "metadata": {
  "kernelspec": {
   "display_name": "dna",
   "language": "python",
   "name": "python3"
  },
  "language_info": {
   "codemirror_mode": {
    "name": "ipython",
    "version": 3
   },
   "file_extension": ".py",
   "mimetype": "text/x-python",
   "name": "python",
   "nbconvert_exporter": "python",
   "pygments_lexer": "ipython3",
   "version": "3.10.16"
  }
 },
 "nbformat": 4,
 "nbformat_minor": 2
}
