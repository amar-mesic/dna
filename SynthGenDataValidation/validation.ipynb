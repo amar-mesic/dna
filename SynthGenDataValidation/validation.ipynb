{
 "cells": [
  {
   "cell_type": "code",
   "execution_count": 1,
   "id": "b592b101",
   "metadata": {},
   "outputs": [
    {
     "name": "stdout",
     "output_type": "stream",
     "text": [
      "/Users/amarmesic/Documents/tudelft/thesis/dna\n"
     ]
    }
   ],
   "source": [
    "%cd /Users/amarmesic/Documents/tudelft/thesis/dna"
   ]
  },
  {
   "cell_type": "code",
   "execution_count": 10,
   "id": "31d377c6",
   "metadata": {},
   "outputs": [
    {
     "name": "stdout",
     "output_type": "stream",
     "text": [
      "/Users/amarmesic/Documents/tudelft/thesis/dna\n"
     ]
    }
   ],
   "source": [
    "%cd /Users/amarmesic/Documents/tudelft/thesis/dna"
   ]
  },
  {
   "cell_type": "markdown",
   "id": "0a62557b",
   "metadata": {},
   "source": [
    "# We calculate Frechet distance pairwise 3-way\n",
    "## First we must obtain our tensors/arrays\n",
    "### *Synthetic data*: obtain here the (100, 6*5000) array"
   ]
  },
  {
   "cell_type": "code",
   "execution_count": 11,
   "id": "b46986b2",
   "metadata": {},
   "outputs": [],
   "source": [
    "import numpy as np\n",
    "import pandas as pd\n",
    "import glob\n",
    "import os\n",
    "from tensorflow.keras.models import load_model\n",
    "\n",
    "from TGAN.generate import epg_from_df, generate_random_latent, preprocess_epg"
   ]
  },
  {
   "cell_type": "code",
   "execution_count": 38,
   "id": "aafb0a35",
   "metadata": {},
   "outputs": [],
   "source": [
    "# preprocess using normalization\n",
    "def zscore_normalize_sample(sample):\n",
    "    mean = np.mean(sample)\n",
    "    std = np.std(sample)\n",
    "    return (sample - mean) / (std + 1e-8)"
   ]
  },
  {
   "cell_type": "code",
   "execution_count": 39,
   "id": "df8a1948",
   "metadata": {},
   "outputs": [],
   "source": [
    "n_samples = 100"
   ]
  },
  {
   "cell_type": "code",
   "execution_count": 40,
   "id": "fcd5e6fd",
   "metadata": {},
   "outputs": [],
   "source": [
    "def generate_synthetic_data(csv_dir=\"./TGAN/generated_alleles\", samples=100):\n",
    "\n",
    "    # Load your generator model here (adjust path as needed)\n",
    "    generator = load_model('./TGAN_model/Profile_generator_GAN_trained_model_random_24-09-2023.h5')\n",
    "    batch_size = samples # Set to 1 unless I explicitly want to batch process multiple EPGs per file\n",
    "\n",
    "    # Find all relevant CSV files\n",
    "    csv_files = sorted(glob.glob(os.path.join(csv_dir, \"simulated_epg_with_dyes_seed_*.csv\")))\n",
    "    dfs = map(pd.read_csv, csv_files)\n",
    "\n",
    "    # Prepare input EPGs\n",
    "    synth_epg_data = [epg_from_df(df) for df in dfs]\n",
    "    preprocessed_synth_epg_data = [preprocess_epg(synth_epg) for synth_epg in synth_epg_data]\n",
    "    ndarray_synth_epg_data = np.concatenate(preprocessed_synth_epg_data, axis=0)\n",
    "\n",
    "    # Generate latent vector\n",
    "    latent = generate_random_latent(batch_size=batch_size, n_lanes=6, length=500)\n",
    "\n",
    "    generated_epg = generator.predict([ndarray_synth_epg_data, latent])\n",
    "    return generated_epg  # shape: (batch_size, n_lanes, epg_length, 1)"
   ]
  },
  {
   "cell_type": "code",
   "execution_count": 41,
   "id": "80541dba",
   "metadata": {},
   "outputs": [
    {
     "name": "stdout",
     "output_type": "stream",
     "text": [
      "4/4 [==============================] - 8s 1s/step\n"
     ]
    }
   ],
   "source": [
    "# Running takes a few secs, best to use sparingly\n",
    "synthetic_data = generate_synthetic_data(samples=n_samples)"
   ]
  },
  {
   "cell_type": "code",
   "execution_count": 42,
   "id": "8165fe82",
   "metadata": {},
   "outputs": [
    {
     "data": {
      "text/plain": [
       "(100, 25000)"
      ]
     },
     "execution_count": 42,
     "metadata": {},
     "output_type": "execute_result"
    }
   ],
   "source": [
    "# confirmed, this reshapes correctly!\n",
    "shaped_synthetic_data = synthetic_data.squeeze().reshape(n_samples, 6*5000)[:, :-5000]  # Remove the last 5000 columns representing the ladder\n",
    "synthetic_preprocessed = np.array([zscore_normalize_sample(sample) for sample in shaped_synthetic_data])\n",
    "synthetic_preprocessed.shape"
   ]
  },
  {
   "cell_type": "markdown",
   "id": "fa68a80e",
   "metadata": {},
   "source": [
    "### Real GlobalFiler 5sec data"
   ]
  },
  {
   "cell_type": "code",
   "execution_count": 43,
   "id": "7d1b1370",
   "metadata": {},
   "outputs": [
    {
     "data": {
      "text/plain": [
       "(100, 25000)"
      ]
     },
     "execution_count": 43,
     "metadata": {},
     "output_type": "execute_result"
    }
   ],
   "source": [
    "real_gf_raw_data = np.load(\"./SGD_validation/real_gf_epgs.npy\")\n",
    "real_gf_raw_data_shaped = real_gf_raw_data[:100, :, 4000:9000, np.newaxis]\n",
    "real_gf_raw_data_shaped = real_gf_raw_data_shaped.reshape(100, 6*5000)[:, :-5000]\n",
    "real_gf_raw_data_shaped.shape"
   ]
  },
  {
   "cell_type": "code",
   "execution_count": 44,
   "id": "62ebaae6",
   "metadata": {},
   "outputs": [
    {
     "data": {
      "text/plain": [
       "(100, 25000)"
      ]
     },
     "execution_count": 44,
     "metadata": {},
     "output_type": "execute_result"
    }
   ],
   "source": [
    "real_gf_preprocessed = np.array([zscore_normalize_sample(sample) for sample in real_gf_raw_data_shaped])\n",
    "real_gf_preprocessed.shape"
   ]
  },
  {
   "cell_type": "markdown",
   "id": "c26010d9",
   "metadata": {},
   "source": [
    "### Real GlobalFiler 25sec data"
   ]
  },
  {
   "cell_type": "code",
   "execution_count": 45,
   "id": "c5eaed28",
   "metadata": {},
   "outputs": [
    {
     "name": "stdout",
     "output_type": "stream",
     "text": [
      "(100, 25000)\n",
      "(100, 25000)\n"
     ]
    }
   ],
   "source": [
    "real_gf_25_raw_data = np.load(\"./SGD_validation/real_gf_25_epgs.npy\")\n",
    "real_gf_25_raw_data_shaped = real_gf_25_raw_data[:100, :, 4000:9000, np.newaxis]\n",
    "real_gf_25_raw_data_shaped = real_gf_25_raw_data_shaped.reshape(100, 6*5000)[:, :-5000]\n",
    "print(real_gf_25_raw_data_shaped.shape)\n",
    "real_gf_25_preprocessed = np.array([zscore_normalize_sample(sample) for sample in real_gf_25_raw_data_shaped])\n",
    "print(real_gf_25_preprocessed.shape)"
   ]
  },
  {
   "cell_type": "code",
   "execution_count": 46,
   "id": "65fb08de",
   "metadata": {},
   "outputs": [
    {
     "data": {
      "text/plain": [
       "(100, 25000)"
      ]
     },
     "execution_count": 46,
     "metadata": {},
     "output_type": "execute_result"
    }
   ],
   "source": [
    "real_gf_25_preprocessed = np.array([zscore_normalize_sample(sample) for sample in real_gf_25_raw_data_shaped])\n",
    "real_gf_25_preprocessed.shape"
   ]
  },
  {
   "cell_type": "markdown",
   "id": "c2b962e2",
   "metadata": {},
   "source": [
    "### Real NFI data"
   ]
  },
  {
   "cell_type": "code",
   "execution_count": 47,
   "id": "07760cb5",
   "metadata": {},
   "outputs": [
    {
     "data": {
      "text/plain": [
       "(100, 30000)"
      ]
     },
     "execution_count": 47,
     "metadata": {},
     "output_type": "execute_result"
    }
   ],
   "source": [
    "real_nfi_raw_data = np.load(\"./SGD_validation/real_nfi_epgs.npy\")\n",
    "real_nfi_raw_data_shaped = real_nfi_raw_data[:100, :, 4000:9000, np.newaxis]\n",
    "real_nfi_raw_data_shaped = real_nfi_raw_data_shaped.reshape(100, 6*5000)\n",
    "real_nfi_raw_data_shaped.shape"
   ]
  },
  {
   "cell_type": "code",
   "execution_count": 48,
   "id": "9d1866d4",
   "metadata": {},
   "outputs": [
    {
     "data": {
      "text/plain": [
       "(100, 25000)"
      ]
     },
     "execution_count": 48,
     "metadata": {},
     "output_type": "execute_result"
    }
   ],
   "source": [
    "real_nfi_preprocessed = np.array([zscore_normalize_sample(sample) for sample in real_nfi_raw_data_shaped])[:, :-5000]\n",
    "real_nfi_preprocessed.shape"
   ]
  },
  {
   "cell_type": "markdown",
   "id": "da89b4b1",
   "metadata": {},
   "source": [
    "# Calculate Frechet distances\n",
    "\n",
    "## Runs a bit slow with 100 samples, memory is troubled. Solution:\n",
    "* Downsample data to have 10K scan points total instead of 30K\n",
    "* Use fewer samples"
   ]
  },
  {
   "cell_type": "code",
   "execution_count": 49,
   "id": "96b95228",
   "metadata": {},
   "outputs": [],
   "source": [
    "from scipy.linalg import sqrtm\n",
    "\n",
    "def frechet_distance(mu1, sigma1, mu2, sigma2):\n",
    "    diff = mu1 - mu2\n",
    "    covmean = sqrtm(sigma1 @ sigma2)\n",
    "\n",
    "    # Handle imaginary components from sqrtm\n",
    "    if np.iscomplexobj(covmean):\n",
    "        covmean = covmean.real\n",
    "\n",
    "    return diff @ diff + np.trace(sigma1 + sigma2 - 2 * covmean)"
   ]
  },
  {
   "cell_type": "code",
   "execution_count": 50,
   "id": "5cd42e11",
   "metadata": {},
   "outputs": [
    {
     "data": {
      "text/plain": [
       "(100, 8334)"
      ]
     },
     "execution_count": 50,
     "metadata": {},
     "output_type": "execute_result"
    }
   ],
   "source": [
    "synthetic_preprocessed[:, ::3].shape"
   ]
  },
  {
   "cell_type": "code",
   "execution_count": 51,
   "id": "31ce87b2",
   "metadata": {},
   "outputs": [],
   "source": [
    "synthetic_preprocessed_mini = synthetic_preprocessed[::2, ::5]\n",
    "real_gf_preprocessed_mini = real_gf_preprocessed[::2, ::5]\n",
    "real_gf_25_preprocessed_mini = real_gf_25_preprocessed[::2, ::5]\n",
    "real_nfi_preprocessed_mini = real_nfi_preprocessed[::2, ::5]"
   ]
  },
  {
   "cell_type": "code",
   "execution_count": null,
   "id": "cd0623f5",
   "metadata": {},
   "outputs": [
    {
     "data": {
      "text/plain": [
       "(56581.93400933531,\n",
       " -2.5295321393059567e-12,\n",
       " -1.0800249583553523e-12,\n",
       " -0.0022277832)"
      ]
     },
     "execution_count": 52,
     "metadata": {},
     "output_type": "execute_result"
    }
   ],
   "source": [
    "real_nfi_preprocessed.sum(axis=0), real_gf_preprocessed.sum(), real_gf_25_preprocessed.sum(), synthetic_preprocessed.sum()"
   ]
  },
  {
   "cell_type": "code",
   "execution_count": 53,
   "id": "0494ff67",
   "metadata": {},
   "outputs": [
    {
     "data": {
      "text/plain": [
       "<matplotlib.legend.Legend at 0x13ab23550>"
      ]
     },
     "execution_count": 53,
     "metadata": {},
     "output_type": "execute_result"
    },
    {
     "data": {
      "image/png": "[encoded data removed]",
      "text/plain": [
       "<Figure size 640x480 with 1 Axes>"
      ]
     },
     "metadata": {},
     "output_type": "display_data"
    }
   ],
   "source": [
    "from matplotlib import pyplot as plt\n",
    "\n",
    "\n",
    "plt.plot(real_nfi_preprocessed_mini[10].flatten(), label=\"Real\")\n",
    "plt.plot(synthetic_preprocessed_mini[10].flatten(), label=\"Synthetic\")\n",
    "plt.legend()"
   ]
  },
  {
   "cell_type": "code",
   "execution_count": 60,
   "id": "137074d8",
   "metadata": {},
   "outputs": [],
   "source": [
    "mu_real_gf = np.mean(real_gf_preprocessed_mini, axis=1)\n",
    "mu_real_gf_25 = np.mean(real_gf_25_preprocessed_mini, axis=1)\n",
    "mu_real_nfi = np.mean(real_nfi_preprocessed_mini, axis=1)\n",
    "mu_fake = np.mean(synthetic_preprocessed_mini, axis=1)\n",
    "\n",
    "sigma_real_gf = np.cov(real_gf_preprocessed_mini, rowvar=False)\n",
    "sigma_real_gf_25 = np.cov(real_gf_25_preprocessed_mini, rowvar=False)\n",
    "sigma_real_nfi = np.cov(real_nfi_preprocessed_mini, rowvar=False)\n",
    "sigma_fake = np.cov(synthetic_preprocessed_mini, rowvar=False)"
   ]
  },
  {
   "cell_type": "code",
   "execution_count": null,
   "id": "15b5f06f",
   "metadata": {},
   "outputs": [
    {
     "name": "stdout",
     "output_type": "stream",
     "text": [
      "Fréchet Distance between Real Global Filer data and Synthetic: 6922.6942\n"
     ]
    }
   ],
   "source": [
    "# here we can assume that real refers to gf\n",
    "frechet_distance_gf_synth = frechet_distance(mu_real_gf, sigma_real_gf, mu_fake, sigma_fake)\n",
    "print(f\"Fréchet Distance between Real Global Filer data (5sec) and Synthetic: {frechet_distance_gf_synth:.4f}\")"
   ]
  },
  {
   "cell_type": "code",
   "execution_count": 63,
   "id": "41caf589",
   "metadata": {},
   "outputs": [
    {
     "name": "stdout",
     "output_type": "stream",
     "text": [
      "Fréchet Distance between Real Global Filer data (5sec) and Global Filer data (25sec): 3887.6443\n"
     ]
    }
   ],
   "source": [
    "# here we can assume that real refers to gf\n",
    "frechet_distance_gf_synth = frechet_distance(mu_real_gf, sigma_real_gf, mu_real_gf_25, sigma_real_gf_25)\n",
    "print(f\"Fréchet Distance between Real Global Filer data (5sec) and Global Filer data (25sec): {frechet_distance_gf_synth:.4f}\")"
   ]
  },
  {
   "cell_type": "code",
   "execution_count": 61,
   "id": "b2c45566",
   "metadata": {},
   "outputs": [
    {
     "name": "stdout",
     "output_type": "stream",
     "text": [
      "Fréchet Distance between Real Global Filer (25sec) data and Synthetic: 6956.0289\n"
     ]
    }
   ],
   "source": [
    "# here we can assume that real refers to gf\n",
    "frechet_distance_gf_25_synth = frechet_distance(mu_real_gf_25, sigma_real_gf_25, mu_fake, sigma_fake)\n",
    "print(f\"Fréchet Distance between Real Global Filer (25sec) data and Synthetic: {frechet_distance_gf_25_synth:.4f}\")"
   ]
  },
  {
   "cell_type": "code",
   "execution_count": 56,
   "id": "078a8d9c",
   "metadata": {},
   "outputs": [
    {
     "name": "stdout",
     "output_type": "stream",
     "text": [
      "Fréchet Distance between Real Global Filer data and NFI data: 8824.5103\n"
     ]
    }
   ],
   "source": [
    "frechet_distance_gf_nfi = frechet_distance(mu_real_gf, sigma_real_gf, mu_real_nfi, sigma_real_nfi)\n",
    "print(f\"Fréchet Distance between Real Global Filer data and NFI data: {frechet_distance_gf_nfi:.4f}\")"
   ]
  },
  {
   "cell_type": "code",
   "execution_count": 62,
   "id": "0c0c1ecf",
   "metadata": {},
   "outputs": [
    {
     "name": "stdout",
     "output_type": "stream",
     "text": [
      "Fréchet Distance between Real Global Filer (25sec) data and NFI data: 8806.5675\n"
     ]
    }
   ],
   "source": [
    "# here we can assume that real refers to gf\n",
    "frechet_distance_gf_25_nfi = frechet_distance(mu_real_gf_25, sigma_real_gf_25, mu_real_nfi, sigma_real_nfi)\n",
    "print(f\"Fréchet Distance between Real Global Filer (25sec) data and NFI data: {frechet_distance_gf_25_nfi:.4f}\")"
   ]
  },
  {
   "cell_type": "code",
   "execution_count": 57,
   "id": "2840629b",
   "metadata": {},
   "outputs": [
    {
     "name": "stdout",
     "output_type": "stream",
     "text": [
      "Fréchet Distance between Synthetic and NFI data: 7505.6406\n"
     ]
    }
   ],
   "source": [
    "frechet_distance_synth_nfi = frechet_distance(mu_fake, sigma_fake, mu_real_nfi, sigma_real_nfi)\n",
    "print(f\"Fréchet Distance between Synthetic and NFI data: {frechet_distance_synth_nfi:.4f}\")"
   ]
  },
  {
   "cell_type": "code",
   "execution_count": 58,
   "id": "418ecbd7",
   "metadata": {},
   "outputs": [
    {
     "name": "stdout",
     "output_type": "stream",
     "text": [
      "Fréchet Distance between Real Global Filer data and Synthetic: -0.0004\n"
     ]
    }
   ],
   "source": [
    "frechet_distance_synth_synth = frechet_distance(mu_fake, sigma_fake, mu_fake, sigma_fake)\n",
    "print(f\"Fréchet Distance between Real Global Filer data and Synthetic: {frechet_distance_synth_synth:.4f}\")"
   ]
  },
  {
   "cell_type": "code",
   "execution_count": null,
   "id": "a116c77b",
   "metadata": {},
   "outputs": [],
   "source": []
  }
 ],
 "metadata": {
  "kernelspec": {
   "display_name": "gan",
   "language": "python",
   "name": "python3"
  },
  "language_info": {
   "codemirror_mode": {
    "name": "ipython",
    "version": 3
   },
   "file_extension": ".py",
   "mimetype": "text/x-python",
   "name": "python",
   "nbconvert_exporter": "python",
   "pygments_lexer": "ipython3",
   "version": "3.10.16"
  }
 },
 "nbformat": 4,
 "nbformat_minor": 5
}
